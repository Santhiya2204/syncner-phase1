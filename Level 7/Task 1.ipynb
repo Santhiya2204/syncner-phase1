{
 "cells": [
  {
   "cell_type": "code",
   "execution_count": null,
   "metadata": {},
   "outputs": [
    {
     "name": "stdout",
     "output_type": "stream",
     "text": [
      "Z-Score: 15.08\n",
      "P-Value: 0.00000\n",
      "Decision: Reject H₀\n"
     ]
    }
   ],
   "source": [
    "import numpy as np\n",
    "from statsmodels.stats.weightstats import ztest\n",
    "np.random.seed(42) \n",
    "sample_data = np.random.normal(140, 15, 30)  \n",
    "z_score, p_value = ztest(sample_data, value=100)  \n",
    "alpha = 0.05\n",
    "decision = \"Reject H₀\" if p_value < alpha else \"Fail to reject H₀\"\n",
    "print(f\"Z-Score: {z_score:.2f}\")\n",
    "print(f\"P-Value: {p_value:.5f}\")\n",
    "print(f\"Decision: {decision}\")"
   ]
  }
 ],
 "metadata": {
  "kernelspec": {
   "display_name": "base",
   "language": "python",
   "name": "python3"
  },
  "language_info": {
   "codemirror_mode": {
    "name": "ipython",
    "version": 3
   },
   "file_extension": ".py",
   "mimetype": "text/x-python",
   "name": "python",
   "nbconvert_exporter": "python",
   "pygments_lexer": "ipython3",
   "version": "3.12.7"
  }
 },
 "nbformat": 4,
 "nbformat_minor": 2
}
