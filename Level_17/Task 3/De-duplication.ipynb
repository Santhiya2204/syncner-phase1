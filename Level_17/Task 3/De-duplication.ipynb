{
 "cells": [
  {
   "cell_type": "code",
   "execution_count": null,
   "id": "424b7fc7",
   "metadata": {},
   "outputs": [
    {
     "name": "stdout",
     "output_type": "stream",
     "text": [
      "Different tie-breakers used for tied matches:\n",
      "- Super Over\n",
      "- one - over eliminator\n",
      "- 2nd Super Over\n"
     ]
    },
    {
     "name": "stderr",
     "output_type": "stream",
     "text": [
      "C:\\Users\\santh\\AppData\\Local\\Temp\\ipykernel_30912\\3318437798.py:3: DtypeWarning: Columns (21,24,25,28) have mixed types. Specify dtype option on import or set low_memory=False.\n",
      "  over_df = pd.read_csv(\"C:/Users/santh/Downloads/ipl_over_data.csv\")\n"
     ]
    }
   ],
   "source": [
    "import pandas as pd\n",
    "over_df = pd.read_csv(\"C:/Users/santh/Downloads/ipl_over_data.csv\")\n",
    "tie_breakers = over_df[over_df['match_tie_breaker'].notna()]['match_tie_breaker'].unique()\n",
    "print(\"Different tie-breakers used for tied matches:\")\n",
    "for tb in tie_breakers:\n",
    "    print(\"-\", tb)\n"
   ]
  }
 ],
 "metadata": {
  "kernelspec": {
   "display_name": "base",
   "language": "python",
   "name": "python3"
  },
  "language_info": {
   "codemirror_mode": {
    "name": "ipython",
    "version": 3
   },
   "file_extension": ".py",
   "mimetype": "text/x-python",
   "name": "python",
   "nbconvert_exporter": "python",
   "pygments_lexer": "ipython3",
   "version": "3.12.7"
  }
 },
 "nbformat": 4,
 "nbformat_minor": 5
}
