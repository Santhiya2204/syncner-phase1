{
 "cells": [
  {
   "cell_type": "code",
   "execution_count": 0,
   "metadata": {
    "application/vnd.databricks.v1+cell": {
     "cellMetadata": {
      "byteLimit": 2048000,
      "rowLimit": 10000
     },
     "inputWidgets": {},
     "nuid": "43812aa5-af4c-472e-9960-d8c5704ffd1c",
     "showTitle": false,
     "tableResultSettingsMap": {},
     "title": ""
    }
   },
   "outputs": [],
   "source": [
    "df1 = spark.read.format(\"csv\").option(\"header\", \"true\").load(\"dbfs:/FileStore/shared_uploads/santhiyasri394@gmail.com/cricket_data.csv\")"
   ]
  },
  {
   "cell_type": "code",
   "execution_count": 0,
   "metadata": {
    "application/vnd.databricks.v1+cell": {
     "cellMetadata": {
      "byteLimit": 2048000,
      "rowLimit": 10000
     },
     "inputWidgets": {},
     "nuid": "89ad1e16-dea2-4f09-9c13-f8d026ac9441",
     "showTitle": false,
     "tableResultSettingsMap": {},
     "title": ""
    }
   },
   "outputs": [
    {
     "name": "stdout",
     "output_type": "stream",
     "text": [
      "+--------------------+----+--------------------+\n",
      "|               match|ball|           commentry|\n",
      "+--------------------+----+--------------------+\n",
      "|ENGLAND vs NEW ZE...|36.2|36.2 Moeen Ali to...|\n",
      "|ENGLAND vs NEW ZE...|36.1|36.1 Moeen Ali to...|\n",
      "|ENGLAND vs NEW ZE...|35.6|35.6 Livingstone ...|\n",
      "|BANGLADESH vs AFG...|34.4|34.4Naveen-ul-Haq...|\n",
      "|ENGLAND vs NEW ZE...|35.5|35.5 Livingstone ...|\n",
      "+--------------------+----+--------------------+\n",
      "only showing top 5 rows\n",
      "\n"
     ]
    }
   ],
   "source": [
    "df1.show(5)"
   ]
  },
  {
   "cell_type": "code",
   "execution_count": 0,
   "metadata": {
    "application/vnd.databricks.v1+cell": {
     "cellMetadata": {
      "byteLimit": 2048000,
      "rowLimit": 10000
     },
     "inputWidgets": {},
     "nuid": "30e3cbbb-3347-4de4-a5fe-a3c915ba24a6",
     "showTitle": false,
     "tableResultSettingsMap": {},
     "title": ""
    }
   },
   "outputs": [],
   "source": [
    "df1.write.mode(\"overwrite\").csv(\"/FileStore/output_csv\", header=True)\n",
    "df1.write.mode(\"overwrite\").parquet(\"/FileStore/output_parquet\")\n"
   ]
  },
  {
   "cell_type": "code",
   "execution_count": 0,
   "metadata": {
    "application/vnd.databricks.v1+cell": {
     "cellMetadata": {
      "byteLimit": 2048000,
      "rowLimit": 10000
     },
     "inputWidgets": {},
     "nuid": "94f93c70-07cd-4de1-b228-6288a4a79d79",
     "showTitle": false,
     "tableResultSettingsMap": {},
     "title": ""
    }
   },
   "outputs": [
    {
     "data": {
      "text/html": [
       "<style scoped>\n",
       "  .ansiout {\n",
       "    display: block;\n",
       "    unicode-bidi: embed;\n",
       "    white-space: pre-wrap;\n",
       "    word-wrap: break-word;\n",
       "    word-break: break-all;\n",
       "    font-family: \"Menlo\", \"Monaco\", \"Consolas\", \"Ubuntu Mono\", \"Source Code Pro\", monospace;\n",
       "    font-size: 13px;\n",
       "    color: #555;\n",
       "    margin-left: 4px;\n",
       "    line-height: 19px;\n",
       "  }\n",
       "</style>"
      ]
     },
     "metadata": {
      "application/vnd.databricks.v1+output": {
       "arguments": {},
       "data": "",
       "errorSummary": "<div class=\"ansiout\">command-1462301345729989:1: error: 3 more arguments than can be applied to method ls: (dir: String)Seq[com.databricks.backend.daemon.dbutils.FileInfo]\ndisplay(dbutils.fs.ls(&quot;/FileStore/output_csv&quot;, &quot;%fs&quot;, &quot;ls&quot;, &quot;/FileStore/output_parquet&quot;)) // SAFE COMMAND FROM MACRO\n                                               ^\n</div>",
       "errorTraceType": "html",
       "metadata": {},
       "type": "ipynbError"
      }
     },
     "output_type": "display_data"
    }
   ],
   "source": [
    "%fs ls /FileStore/output_csv\n",
    "%fs ls /FileStore/output_parquet"
   ]
  },
  {
   "cell_type": "code",
   "execution_count": 0,
   "metadata": {
    "application/vnd.databricks.v1+cell": {
     "cellMetadata": {
      "byteLimit": 2048000,
      "rowLimit": 10000
     },
     "inputWidgets": {},
     "nuid": "d8d58e8f-cd1b-4eef-a874-48324a6f0d9f",
     "showTitle": false,
     "tableResultSettingsMap": {},
     "title": ""
    }
   },
   "outputs": [
    {
     "data": {
      "text/html": [
       "<style scoped>\n",
       "  .table-result-container {\n",
       "    max-height: 300px;\n",
       "    overflow: auto;\n",
       "  }\n",
       "  table, th, td {\n",
       "    border: 1px solid black;\n",
       "    border-collapse: collapse;\n",
       "  }\n",
       "  th, td {\n",
       "    padding: 5px;\n",
       "  }\n",
       "  th {\n",
       "    text-align: left;\n",
       "  }\n",
       "</style><div class='table-result-container'><table class='table-result'><thead style='background-color: white'><tr><th>path</th><th>name</th><th>size</th><th>modificationTime</th></tr></thead><tbody><tr><td>dbfs:/FileStore/output_csv/_SUCCESS</td><td>_SUCCESS</td><td>0</td><td>1744709336000</td></tr><tr><td>dbfs:/FileStore/output_csv/_committed_3452913027675711868</td><td>_committed_3452913027675711868</td><td>198</td><td>1744709335000</td></tr><tr><td>dbfs:/FileStore/output_csv/_started_3452913027675711868</td><td>_started_3452913027675711868</td><td>0</td><td>1744709332000</td></tr><tr><td>dbfs:/FileStore/output_csv/part-00000-tid-3452913027675711868-1954b6de-5df3-4fe1-9032-bb5ebac355e0-2-1-c000.csv</td><td>part-00000-tid-3452913027675711868-1954b6de-5df3-4fe1-9032-bb5ebac355e0-2-1-c000.csv</td><td>4167344</td><td>1744709335000</td></tr><tr><td>dbfs:/FileStore/output_csv/part-00001-tid-3452913027675711868-1954b6de-5df3-4fe1-9032-bb5ebac355e0-3-1-c000.csv</td><td>part-00001-tid-3452913027675711868-1954b6de-5df3-4fe1-9032-bb5ebac355e0-3-1-c000.csv</td><td>473345</td><td>1744709333000</td></tr></tbody></table></div>"
      ]
     },
     "metadata": {
      "application/vnd.databricks.v1+output": {
       "addedWidgets": {},
       "aggData": [],
       "aggError": "",
       "aggOverflow": false,
       "aggSchema": [],
       "aggSeriesLimitReached": false,
       "aggType": "",
       "arguments": {},
       "columnCustomDisplayInfos": {},
       "data": [
        [
         "dbfs:/FileStore/output_csv/_SUCCESS",
         "_SUCCESS",
         0,
         1744709336000
        ],
        [
         "dbfs:/FileStore/output_csv/_committed_3452913027675711868",
         "_committed_3452913027675711868",
         198,
         1744709335000
        ],
        [
         "dbfs:/FileStore/output_csv/_started_3452913027675711868",
         "_started_3452913027675711868",
         0,
         1744709332000
        ],
        [
         "dbfs:/FileStore/output_csv/part-00000-tid-3452913027675711868-1954b6de-5df3-4fe1-9032-bb5ebac355e0-2-1-c000.csv",
         "part-00000-tid-3452913027675711868-1954b6de-5df3-4fe1-9032-bb5ebac355e0-2-1-c000.csv",
         4167344,
         1744709335000
        ],
        [
         "dbfs:/FileStore/output_csv/part-00001-tid-3452913027675711868-1954b6de-5df3-4fe1-9032-bb5ebac355e0-3-1-c000.csv",
         "part-00001-tid-3452913027675711868-1954b6de-5df3-4fe1-9032-bb5ebac355e0-3-1-c000.csv",
         473345,
         1744709333000
        ]
       ],
       "datasetInfos": [],
       "dbfsResultPath": null,
       "isJsonSchema": true,
       "metadata": {},
       "overflow": false,
       "plotOptions": {
        "customPlotOptions": {},
        "displayType": "table",
        "pivotAggregation": null,
        "pivotColumns": null,
        "xColumns": null,
        "yColumns": null
       },
       "removedWidgets": [],
       "schema": [
        {
         "metadata": "{}",
         "name": "path",
         "type": "\"string\""
        },
        {
         "metadata": "{}",
         "name": "name",
         "type": "\"string\""
        },
        {
         "metadata": "{}",
         "name": "size",
         "type": "\"long\""
        },
        {
         "metadata": "{}",
         "name": "modificationTime",
         "type": "\"long\""
        }
       ],
       "type": "table"
      }
     },
     "output_type": "display_data"
    },
    {
     "data": {
      "text/html": [
       "<style scoped>\n",
       "  .table-result-container {\n",
       "    max-height: 300px;\n",
       "    overflow: auto;\n",
       "  }\n",
       "  table, th, td {\n",
       "    border: 1px solid black;\n",
       "    border-collapse: collapse;\n",
       "  }\n",
       "  th, td {\n",
       "    padding: 5px;\n",
       "  }\n",
       "  th {\n",
       "    text-align: left;\n",
       "  }\n",
       "</style><div class='table-result-container'><table class='table-result'><thead style='background-color: white'><tr><th>path</th><th>name</th><th>size</th><th>modificationTime</th></tr></thead><tbody><tr><td>dbfs:/FileStore/output_parquet/_SUCCESS</td><td>_SUCCESS</td><td>0</td><td>1744709343000</td></tr><tr><td>dbfs:/FileStore/output_parquet/_committed_8329953793696051131</td><td>_committed_8329953793696051131</td><td>220</td><td>1744709343000</td></tr><tr><td>dbfs:/FileStore/output_parquet/_started_8329953793696051131</td><td>_started_8329953793696051131</td><td>0</td><td>1744709337000</td></tr><tr><td>dbfs:/FileStore/output_parquet/part-00000-tid-8329953793696051131-9028a6aa-ccc1-4a20-bb9a-7ce58d4355af-4-1-c000.snappy.parquet</td><td>part-00000-tid-8329953793696051131-9028a6aa-ccc1-4a20-bb9a-7ce58d4355af-4-1-c000.snappy.parquet</td><td>1764729</td><td>1744709342000</td></tr><tr><td>dbfs:/FileStore/output_parquet/part-00001-tid-8329953793696051131-9028a6aa-ccc1-4a20-bb9a-7ce58d4355af-5-1-c000.snappy.parquet</td><td>part-00001-tid-8329953793696051131-9028a6aa-ccc1-4a20-bb9a-7ce58d4355af-5-1-c000.snappy.parquet</td><td>198022</td><td>1744709342000</td></tr></tbody></table></div>"
      ]
     },
     "metadata": {
      "application/vnd.databricks.v1+output": {
       "addedWidgets": {},
       "aggData": [],
       "aggError": "",
       "aggOverflow": false,
       "aggSchema": [],
       "aggSeriesLimitReached": false,
       "aggType": "",
       "arguments": {},
       "columnCustomDisplayInfos": {},
       "data": [
        [
         "dbfs:/FileStore/output_parquet/_SUCCESS",
         "_SUCCESS",
         0,
         1744709343000
        ],
        [
         "dbfs:/FileStore/output_parquet/_committed_8329953793696051131",
         "_committed_8329953793696051131",
         220,
         1744709343000
        ],
        [
         "dbfs:/FileStore/output_parquet/_started_8329953793696051131",
         "_started_8329953793696051131",
         0,
         1744709337000
        ],
        [
         "dbfs:/FileStore/output_parquet/part-00000-tid-8329953793696051131-9028a6aa-ccc1-4a20-bb9a-7ce58d4355af-4-1-c000.snappy.parquet",
         "part-00000-tid-8329953793696051131-9028a6aa-ccc1-4a20-bb9a-7ce58d4355af-4-1-c000.snappy.parquet",
         1764729,
         1744709342000
        ],
        [
         "dbfs:/FileStore/output_parquet/part-00001-tid-8329953793696051131-9028a6aa-ccc1-4a20-bb9a-7ce58d4355af-5-1-c000.snappy.parquet",
         "part-00001-tid-8329953793696051131-9028a6aa-ccc1-4a20-bb9a-7ce58d4355af-5-1-c000.snappy.parquet",
         198022,
         1744709342000
        ]
       ],
       "datasetInfos": [],
       "dbfsResultPath": null,
       "isJsonSchema": true,
       "metadata": {},
       "overflow": false,
       "plotOptions": {
        "customPlotOptions": {},
        "displayType": "table",
        "pivotAggregation": null,
        "pivotColumns": null,
        "xColumns": null,
        "yColumns": null
       },
       "removedWidgets": [],
       "schema": [
        {
         "metadata": "{}",
         "name": "path",
         "type": "\"string\""
        },
        {
         "metadata": "{}",
         "name": "name",
         "type": "\"string\""
        },
        {
         "metadata": "{}",
         "name": "size",
         "type": "\"long\""
        },
        {
         "metadata": "{}",
         "name": "modificationTime",
         "type": "\"long\""
        }
       ],
       "type": "table"
      }
     },
     "output_type": "display_data"
    }
   ],
   "source": [
    "csv_files = dbutils.fs.ls(\"/FileStore/output_csv\")\n",
    "display(csv_files)\n",
    "parquet_files = dbutils.fs.ls(\"/FileStore/output_parquet\")\n",
    "display(parquet_files)\n"
   ]
  }
 ],
 "metadata": {
  "application/vnd.databricks.v1+notebook": {
   "computePreferences": null,
   "dashboards": [],
   "environmentMetadata": {
    "base_environment": "",
    "environment_version": "1"
   },
   "inputWidgetPreferences": null,
   "language": "python",
   "notebookMetadata": {
    "mostRecentlyExecutedCommandWithImplicitDF": {
     "commandId": 1462301345729989,
     "dataframes": [
      "_sqldf"
     ]
    },
    "pythonIndentUnit": 4
   },
   "notebookName": "Cricket Analysis",
   "widgets": {}
  },
  "language_info": {
   "name": "python"
  }
 },
 "nbformat": 4,
 "nbformat_minor": 0
}
