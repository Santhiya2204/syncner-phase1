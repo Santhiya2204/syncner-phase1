{
 "cells": [
  {
   "cell_type": "code",
   "execution_count": 1,
   "id": "ecd107dd",
   "metadata": {},
   "outputs": [
    {
     "name": "stdout",
     "output_type": "stream",
     "text": [
      "Requirement already satisfied: requests in c:\\users\\santh\\anaconda3\\lib\\site-packages (2.32.3)\n",
      "Requirement already satisfied: beautifulsoup4 in c:\\users\\santh\\anaconda3\\lib\\site-packages (4.12.3)\n",
      "Requirement already satisfied: pandas in c:\\users\\santh\\anaconda3\\lib\\site-packages (2.2.2)\n",
      "Requirement already satisfied: charset-normalizer<4,>=2 in c:\\users\\santh\\anaconda3\\lib\\site-packages (from requests) (3.3.2)\n",
      "Requirement already satisfied: idna<4,>=2.5 in c:\\users\\santh\\anaconda3\\lib\\site-packages (from requests) (3.7)\n",
      "Requirement already satisfied: urllib3<3,>=1.21.1 in c:\\users\\santh\\anaconda3\\lib\\site-packages (from requests) (2.2.3)\n",
      "Requirement already satisfied: certifi>=2017.4.17 in c:\\users\\santh\\anaconda3\\lib\\site-packages (from requests) (2024.8.30)\n",
      "Requirement already satisfied: soupsieve>1.2 in c:\\users\\santh\\anaconda3\\lib\\site-packages (from beautifulsoup4) (2.5)\n",
      "Requirement already satisfied: numpy>=1.26.0 in c:\\users\\santh\\anaconda3\\lib\\site-packages (from pandas) (1.26.4)\n",
      "Requirement already satisfied: python-dateutil>=2.8.2 in c:\\users\\santh\\anaconda3\\lib\\site-packages (from pandas) (2.9.0.post0)\n",
      "Requirement already satisfied: pytz>=2020.1 in c:\\users\\santh\\anaconda3\\lib\\site-packages (from pandas) (2024.1)\n",
      "Requirement already satisfied: tzdata>=2022.7 in c:\\users\\santh\\anaconda3\\lib\\site-packages (from pandas) (2023.3)\n",
      "Requirement already satisfied: six>=1.5 in c:\\users\\santh\\anaconda3\\lib\\site-packages (from python-dateutil>=2.8.2->pandas) (1.16.0)\n",
      "Note: you may need to restart the kernel to use updated packages.\n"
     ]
    }
   ],
   "source": [
    "pip install requests beautifulsoup4 pandas\n"
   ]
  },
  {
   "cell_type": "code",
   "execution_count": null,
   "id": "af24636f",
   "metadata": {},
   "outputs": [
    {
     "name": "stdout",
     "output_type": "stream",
     "text": [
      "Failed to retrieve webpage, status code: 404\n",
      "Empty DataFrame\n",
      "Columns: [year, series_type, series_name, match_no, match_type, match_name, match_href, match_team1, match_team2, match_datetime_start, match_date_end, match_venue]\n",
      "Index: []\n"
     ]
    },
    {
     "ename": "",
     "evalue": "",
     "output_type": "error",
     "traceback": [
      "\u001b[1;31mThe Kernel crashed while executing code in the current cell or a previous cell. \n",
      "\u001b[1;31mPlease review the code in the cell(s) to identify a possible cause of the failure. \n",
      "\u001b[1;31mClick <a href='https://aka.ms/vscodeJupyterKernelCrash'>here</a> for more info. \n",
      "\u001b[1;31mView Jupyter <a href='command:jupyter.viewOutput'>log</a> for further details."
     ]
    }
   ],
   "source": [
    "import requests\n",
    "from bs4 import BeautifulSoup\n",
    "import pandas as pd\n",
    "\n",
    "url = \"https://example.com/ipl-2021-matches\" \n",
    "response = requests.get(url)\n",
    "\n",
    "if response.status_code != 200:\n",
    "    print(f\"Failed to retrieve webpage, status code: {response.status_code}\")\n",
    "    exit()\n",
    "\n",
    "soup = BeautifulSoup(response.content, 'html.parser')\n",
    "match_data = []\n",
    "matches = soup.find_all('tr')  \n",
    "\n",
    "for match in matches:\n",
    "    year = \"2021\"  \n",
    "    series_type = \"IPL\"  \n",
    "    series_name = \"IPL 2021\"  \n",
    "    try:\n",
    "        match_no = match.find('td', class_='match-number').text.strip()\n",
    "    except AttributeError:\n",
    "        match_no = \"N/A\"\n",
    "\n",
    "    try:\n",
    "        match_type = match.find('td', class_='match-type').text.strip()\n",
    "    except AttributeError:\n",
    "        match_type = \"N/A\"\n",
    "\n",
    "    try:\n",
    "        match_name = match.find('td', class_='match-name').text.strip()\n",
    "    except AttributeError:\n",
    "        match_name = \"N/A\"\n",
    "\n",
    "    try:\n",
    "        match_href = match.find('a', href=True)['href']\n",
    "    except TypeError:\n",
    "        match_href = \"N/A\"\n",
    "\n",
    "    try:\n",
    "        match_team1 = match.find('td', class_='team1').text.strip()\n",
    "    except AttributeError:\n",
    "        match_team1 = \"N/A\"\n",
    "\n",
    "    try:\n",
    "        match_team2 = match.find('td', class_='team2').text.strip()\n",
    "    except AttributeError:\n",
    "        match_team2 = \"N/A\"\n",
    "\n",
    "    try:\n",
    "        match_datetime_start = match.find('td', class_='start-time').text.strip()\n",
    "    except AttributeError:\n",
    "        match_datetime_start = \"N/A\"\n",
    "\n",
    "    try:\n",
    "        match_date_end = match.find('td', class_='end-time').text.strip()\n",
    "    except AttributeError:\n",
    "        match_date_end = \"N/A\"\n",
    "\n",
    "    try:\n",
    "        match_venue = match.find('td', class_='venue').text.strip()\n",
    "    except AttributeError:\n",
    "        match_venue = \"N/A\"\n",
    "\n",
    "    match_data.append([year, series_type, series_name, match_no, match_type, match_name, match_href, match_team1, match_team2, match_datetime_start, match_date_end, match_venue])\n",
    "\n",
    "df = pd.DataFrame(match_data, columns=[\n",
    "    'year', 'series_type', 'series_name', 'match_no', 'match_type', 'match_name', \n",
    "    'match_href', 'match_team1', 'match_team2', 'match_datetime_start', 'match_date_end', 'match_venue'\n",
    "])\n",
    "\n",
    "print(df)\n",
    "\n",
    "\n"
   ]
  }
 ],
 "metadata": {
  "kernelspec": {
   "display_name": "base",
   "language": "python",
   "name": "python3"
  },
  "language_info": {
   "codemirror_mode": {
    "name": "ipython",
    "version": 3
   },
   "file_extension": ".py",
   "mimetype": "text/x-python",
   "name": "python",
   "nbconvert_exporter": "python",
   "pygments_lexer": "ipython3",
   "version": "3.12.7"
  }
 },
 "nbformat": 4,
 "nbformat_minor": 5
}
