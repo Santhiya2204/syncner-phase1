{
 "cells": [
  {
   "cell_type": "code",
   "execution_count": 6,
   "metadata": {},
   "outputs": [
    {
     "name": "stdout",
     "output_type": "stream",
     "text": [
      "\n",
      "--- Personal Budget Summary ---\n",
      "Total Income: $4700\n",
      "Total Expenses: $2300\n",
      "Balance: $2400\n",
      "✅ You have a surplus!\n"
     ]
    }
   ],
   "source": [
    "def calculate_total_income(income_dict):\n",
    "    return sum(income_dict.values())\n",
    "\n",
    "def calculate_total_expenses(expenses_dict):\n",
    "    return sum(expenses_dict.values())\n",
    "\n",
    "def calculate_balance(income_total, expenses_total):\n",
    "    return income_total - expenses_total\n",
    "\n",
    "def print_summary(income, expenses):\n",
    "    total_income = calculate_total_income(income)\n",
    "    total_expenses = calculate_total_expenses(expenses)\n",
    "    balance = calculate_balance(total_income, total_expenses)\n",
    "\n",
    "    print(\"\\n--- Personal Budget Summary ---\")\n",
    "    print(f\"Total Income: ${total_income}\")\n",
    "    print(f\"Total Expenses: ${total_expenses}\")\n",
    "    print(f\"Balance: ${balance}\")\n",
    "\n",
    "    if balance > 0:\n",
    "        print(\"✅ You have a surplus!\")\n",
    "    elif balance < 0:\n",
    "        print(\"⚠️ You are overspending!\")\n",
    "    else:\n",
    "        print(\"💰 You broke even.\")\n",
    "income = {\n",
    "    \"Salary\": 3000,\n",
    "    \"Freelance\": 1200,\n",
    "    \"Investments\": 500\n",
    "}\n",
    "\n",
    "expenses = {\n",
    "    \"Rent\": 1200,\n",
    "    \"Food\": 400,\n",
    "    \"Transport\": 150,\n",
    "    \"Entertainment\": 250,\n",
    "    \"Utilities\": 300\n",
    "}\n",
    "print_summary(income, expenses)\n"
   ]
  }
 ],
 "metadata": {
  "kernelspec": {
   "display_name": "Python 3",
   "language": "python",
   "name": "python3"
  },
  "language_info": {
   "codemirror_mode": {
    "name": "ipython",
    "version": 3
   },
   "file_extension": ".py",
   "mimetype": "text/x-python",
   "name": "python",
   "nbconvert_exporter": "python",
   "pygments_lexer": "ipython3",
   "version": "3.13.2"
  }
 },
 "nbformat": 4,
 "nbformat_minor": 2
}
