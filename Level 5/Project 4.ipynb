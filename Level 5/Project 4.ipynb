{
 "cells": [
  {
   "cell_type": "code",
   "execution_count": null,
   "metadata": {},
   "outputs": [
    {
     "name": "stdout",
     "output_type": "stream",
     "text": [
      "Processed Means: Mean1 = N/A, Mean2 = N/A\n"
     ]
    }
   ],
   "source": [
    "import threading\n",
    "import logging\n",
    "import pandas as pd\n",
    "logging.basicConfig(filename='processing.log', level=logging.INFO,\n",
    "                    format='%(asctime)s - %(levelname)s - %(message)s')\n",
    "\n",
    "def process_csv(file_path, column_name, result_dict, key):\n",
    "    \"\"\"Reads a CSV file, computes the mean of a numeric column, and logs the process.\"\"\"\n",
    "    logging.info(f\"Started processing {file_path}\")\n",
    "    try:\n",
    "        df = pd.read_csv(file_path)\n",
    "        mean_value = df[column_name].mean()\n",
    "        result_dict[key] = mean_value\n",
    "        logging.info(f\"Completed processing {file_path}, Mean: {mean_value}\")\n",
    "    except Exception as e:\n",
    "        logging.error(f\"Error processing {file_path}: {e}\")\n",
    "results = {}\n",
    "file1, file2 = \"data1.csv\", \"data2.csv\"\n",
    "column_to_process = \"value\"\n",
    "thread1 = threading.Thread(target=process_csv, args=(file1, column_to_process, results, 'Mean1'))\n",
    "thread2 = threading.Thread(target=process_csv, args=(file2, column_to_process, results, 'Mean2'))\n",
    "thread1.start()\n",
    "thread2.start()\n",
    "thread1.join()\n",
    "thread2.join()\n",
    "print(f\"Processed Means: Mean1 = {results.get('Mean1', 'N/A')}, Mean2 = {results.get('Mean2', 'N/A')}\")\n"
   ]
  }
 ],
 "metadata": {
  "kernelspec": {
   "display_name": "base",
   "language": "python",
   "name": "python3"
  },
  "language_info": {
   "codemirror_mode": {
    "name": "ipython",
    "version": 3
   },
   "file_extension": ".py",
   "mimetype": "text/x-python",
   "name": "python",
   "nbconvert_exporter": "python",
   "pygments_lexer": "ipython3",
   "version": "3.12.7"
  }
 },
 "nbformat": 4,
 "nbformat_minor": 2
}
