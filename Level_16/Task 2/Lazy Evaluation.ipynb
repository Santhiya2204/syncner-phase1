{
 "cells": [
  {
   "cell_type": "code",
   "execution_count": 1,
   "id": "c279f7d1",
   "metadata": {},
   "outputs": [
    {
     "name": "stdout",
     "output_type": "stream",
     "text": [
      " Pandas DataFrame (Eager Evaluation):\n",
      "  player  runs\n",
      "0  Kohli    45\n",
      "1  Rohit    30\n",
      "2  Dhoni    65\n",
      "\n",
      "📋 LazyFrame Execution Plan:\n",
      " Step 1: filter - <function <lambda> at 0x00000220F99E2980>\n",
      " Step 2: select - ('player',)\n",
      "\n",
      " LazyFrame Executed Output:\n",
      "  player\n",
      "0  Kohli\n",
      "2  Dhoni\n"
     ]
    }
   ],
   "source": [
    "import pandas as pd\n",
    "\n",
    "print(\" Pandas DataFrame (Eager Evaluation):\")\n",
    "data = {\n",
    "    'player': ['Kohli', 'Rohit', 'Dhoni'],\n",
    "    'runs': [45, 30, 65]\n",
    "}\n",
    "\n",
    "df_pandas = pd.DataFrame(data)\n",
    "print(df_pandas)\n",
    "\n",
    "class LazyFrame:\n",
    "    def __init__(self, data):\n",
    "        self.data = data\n",
    "        self.operations = []\n",
    "\n",
    "    def filter(self, func):\n",
    "        self.operations.append((\"filter\", func))\n",
    "        return self\n",
    "\n",
    "    def select(self, *cols):\n",
    "        self.operations.append((\"select\", cols))\n",
    "        return self\n",
    "\n",
    "    def show_plan(self):\n",
    "        print(\"\\n📋 LazyFrame Execution Plan:\")\n",
    "        for idx, op in enumerate(self.operations, 1):\n",
    "            print(f\" Step {idx}: {op[0]} - {op[1]}\")\n",
    "\n",
    "    def execute(self):\n",
    "        df = pd.DataFrame(self.data)\n",
    "        for op, arg in self.operations:\n",
    "            if op == \"filter\":\n",
    "                df = df[df.apply(arg, axis=1)]\n",
    "            elif op == \"select\":\n",
    "                df = df[list(arg)]\n",
    "        return df\n",
    "\n",
    "data_lazy = [\n",
    "    {'player': 'Kohli', 'runs': 45},\n",
    "    {'player': 'Rohit', 'runs': 30},\n",
    "    {'player': 'Dhoni', 'runs': 65}\n",
    "]\n",
    "\n",
    "lazy_df = LazyFrame(data_lazy)\n",
    "\n",
    "lazy_df.filter(lambda row: row['runs'] > 40).select('player')\n",
    "\n",
    "lazy_df.show_plan()\n",
    "\n",
    "print(\"\\n LazyFrame Executed Output:\")\n",
    "print(lazy_df.execute())\n"
   ]
  }
 ],
 "metadata": {
  "kernelspec": {
   "display_name": "base",
   "language": "python",
   "name": "python3"
  },
  "language_info": {
   "codemirror_mode": {
    "name": "ipython",
    "version": 3
   },
   "file_extension": ".py",
   "mimetype": "text/x-python",
   "name": "python",
   "nbconvert_exporter": "python",
   "pygments_lexer": "ipython3",
   "version": "3.12.7"
  }
 },
 "nbformat": 4,
 "nbformat_minor": 5
}
